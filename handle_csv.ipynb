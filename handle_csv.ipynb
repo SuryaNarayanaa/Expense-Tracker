{
 "cells": [
  {
   "cell_type": "code",
   "execution_count": 57,
   "metadata": {},
   "outputs": [],
   "source": [
    "import pandas as pd\n",
    "import psycopg2"
   ]
  },
  {
   "cell_type": "code",
   "execution_count": 58,
   "metadata": {},
   "outputs": [],
   "source": [
    "db_params = {\n",
    "    'dbname': 'ExpenseTracker',\n",
    "    'user': 'postgres',\n",
    "    'password': 'Ntsn03062005@',\n",
    "    'host': 'localhost',\n",
    "    'port': 5432\n",
    "   \n",
    "}\n",
    "\n",
    "\n",
    "query = 'SELECT * FROM expense_tracker'\n",
    "csv_file_path = 'expense.csv'\n"
   ]
  },
  {
   "cell_type": "code",
   "execution_count": 59,
   "metadata": {},
   "outputs": [],
   "source": [
    "def connect_to_db():\n",
    "    conn = psycopg2.connect(\n",
    "        database=db_params['dbname'],\n",
    "        user=db_params['user'],\n",
    "        password = db_params['password'],\n",
    "        host = db_params['host'],\n",
    "        port = db_params['port']\n",
    "    )\n",
    "    return conn"
   ]
  },
  {
   "cell_type": "code",
   "execution_count": 60,
   "metadata": {},
   "outputs": [],
   "source": [
    "import psycopg2\n",
    "\n",
    "\n",
    "def create_db_table():\n",
    "    \n",
    "    conn = connect_to_db()\n",
    "\n",
    "    cursor = conn.cursor()\n",
    "\n",
    "    create_table_query = \"\"\"\n",
    "    CREATE TABLE IF NOT EXISTS expense_tracker (\n",
    "        ID SERIAL PRIMARY KEY,\n",
    "        Date TEXT NOT NULL,\n",
    "        Time TEXT NOT NULL,\n",
    "        Category TEXT NOT NULL,\n",
    "        Amount NUMERIC NOT NULL,\n",
    "        Description TEXT\n",
    "    );\n",
    "    \"\"\"\n",
    "\n",
    "    cursor.execute(create_table_query)\n",
    "\n",
    "\n",
    "    conn.commit()\n",
    "\n",
    "    cursor.close()\n",
    "    conn.close()\n",
    "\n",
    "    print(\"Table 'expense_table' created successfully in the 'ExpenseTracker' database.\")\n"
   ]
  },
  {
   "cell_type": "code",
   "execution_count": 61,
   "metadata": {},
   "outputs": [],
   "source": [
    "def populate_db_table(csv_file_path):\n",
    "\n",
    "\n",
    "    df = pd.read_csv(csv_file_path  = csv_file_path, dbparams = db_params)\n",
    "\n",
    "\n",
    "    for  row in df.iterrows():\n",
    "        date = row[1]['Date']\n",
    "        time = row[1]['Time']\n",
    "        category = row[1]['Category']\n",
    "        amount = row[1]['Amount']\n",
    "        description = row[1]['Description']\n",
    "        conn = connect_to_db()\n",
    "\n",
    "        cursor = conn.cursor()\n",
    "\n",
    "        insert_query = \"\"\"\n",
    "        INSERT INTO expense_tracker (Date, Time, Category, Amount, Description)\n",
    "        VALUES (%s, %s, %s, %s, %s);\n",
    "        \"\"\"\n",
    "\n",
    "        cursor.execute(insert_query, (date, time, category, amount, description))\n",
    "\n",
    "        conn.commit()\n",
    "\n",
    "        cursor.close()\n",
    "        conn.close()\n",
    "\n",
    "\n",
    "\n"
   ]
  },
  {
   "cell_type": "code",
   "execution_count": 62,
   "metadata": {},
   "outputs": [],
   "source": [
    "def add_expense(date, time, category, amount, description , db_params = db_params): \n",
    "\n",
    "\n",
    "    conn = connect_to_db()\n",
    "\n",
    "    cursor = conn.cursor()\n",
    "\n",
    "    insert_query = \"\"\"\n",
    "    INSERT INTO expense_tracker (Date, Time, Category, Amount, Description)\n",
    "    VALUES (%s, %s, %s, %s, %s);\n",
    "    \"\"\"\n",
    "\n",
    "    cursor.execute(insert_query, (date, time, category, amount, description))\n",
    "\n",
    "    conn.commit()\n",
    "\n",
    "    cursor.close()\n",
    "    conn.close()\n",
    "\n"
   ]
  },
  {
   "cell_type": "code",
   "execution_count": 63,
   "metadata": {},
   "outputs": [],
   "source": [
    "\n",
    "def export_postgres_to_csv(db_params =db_params, query =query, csv_file_path = csv_file_path):\n",
    "   \n",
    "    try:\n",
    "        \n",
    "        conn = connect_to_db()\n",
    "        \n",
    "        df = pd.read_sql_query(query, conn)\n",
    "        \n",
    "        df.to_csv(csv_file_path, index=False)\n",
    "        \n",
    "        print(f\"Data exported successfully to {csv_file_path}\")\n",
    "    \n",
    "    except Exception as e:\n",
    "        print(f\"An error occurred: {e}\")\n",
    "    \n",
    "    finally:\n",
    "        if conn:\n",
    "            conn.close()\n",
    "\n",
    "\n"
   ]
  },
  {
   "cell_type": "code",
   "execution_count": null,
   "metadata": {},
   "outputs": [],
   "source": []
  },
  {
   "cell_type": "code",
   "execution_count": 64,
   "metadata": {},
   "outputs": [
    {
     "name": "stdout",
     "output_type": "stream",
     "text": [
      "Data exported successfully to expense.csv\n"
     ]
    },
    {
     "name": "stderr",
     "output_type": "stream",
     "text": [
      "C:\\Users\\SURYA\\AppData\\Local\\Temp\\ipykernel_29788\\2702066284.py:7: UserWarning: pandas only supports SQLAlchemy connectable (engine/connection) or database string URI or sqlite3 DBAPI2 connection. Other DBAPI2 objects are not tested. Please consider using SQLAlchemy.\n",
      "  df = pd.read_sql_query(query, conn)\n"
     ]
    }
   ],
   "source": [
    "add_expense('2021-09-01', '12:00:00', 'Food', 100, 'Lunch')\n",
    "export_postgres_to_csv(db_params, query, csv_file_path)\n"
   ]
  },
  {
   "cell_type": "code",
   "execution_count": 65,
   "metadata": {},
   "outputs": [],
   "source": [
    "def get_all_expenses():\n",
    "    conn = connect_to_db()\n",
    "    cursor = conn.cursor()\n",
    "    cursor.execute(\"SELECT * FROM expense_tracker\")\n",
    "    expenses = cursor.fetchall()\n",
    "    cursor.close()\n",
    "    conn.close()\n",
    "    return expenses"
   ]
  },
  {
   "cell_type": "code",
   "execution_count": 68,
   "metadata": {},
   "outputs": [],
   "source": [
    "def delete_expense(expense_id):\n",
    "    conn = connect_to_db()\n",
    "    cursor = conn.cursor()\n",
    "    cursor.execute(\"DELETE FROM expense_tracker WHERE ID = %s\", (expense_id,))\n",
    "    conn.commit()\n",
    "    cursor.close()\n",
    "    conn.close()\n",
    "\n"
   ]
  },
  {
   "cell_type": "code",
   "execution_count": 70,
   "metadata": {},
   "outputs": [],
   "source": []
  },
  {
   "cell_type": "code",
   "execution_count": null,
   "metadata": {},
   "outputs": [],
   "source": []
  }
 ],
 "metadata": {
  "kernelspec": {
   "display_name": ".ven",
   "language": "python",
   "name": "python3"
  },
  "language_info": {
   "codemirror_mode": {
    "name": "ipython",
    "version": 3
   },
   "file_extension": ".py",
   "mimetype": "text/x-python",
   "name": "python",
   "nbconvert_exporter": "python",
   "pygments_lexer": "ipython3",
   "version": "3.12.4"
  }
 },
 "nbformat": 4,
 "nbformat_minor": 2
}
